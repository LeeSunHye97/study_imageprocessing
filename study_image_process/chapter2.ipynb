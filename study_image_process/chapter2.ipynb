{
 "cells": [
  {
   "cell_type": "markdown",
   "metadata": {},
   "source": [
    "OpenCV를 이용한 기초"
   ]
  },
  {
   "cell_type": "code",
   "execution_count": null,
   "metadata": {},
   "outputs": [],
   "source": [
    "import cv2 as cv\n",
    "import sys"
   ]
  },
  {
   "cell_type": "code",
   "execution_count": null,
   "metadata": {},
   "outputs": [],
   "source": [
    "#영상 변환 및 크기 조절\n",
    "img=cv.imread('image/bird1.jpg')\n",
    "\n",
    "if img is None:\n",
    "    sys.exit('파일을 찾을 수 없습니다.')\n",
    "\n",
    "gray=cv.cvtColor(img,cv.COLOR_BGR2GRAY)\n",
    "gray_small=cv.resize(gray,dsize=(0,0),fx=0.5,fy=0.5)\n",
    "\n",
    "cv.imwrite('result/ch2_bird_gray.jpg',gray)\n",
    "cv.imwrite('result/ch2_bird_graysmall.jpg',gray_small)\n",
    "\n",
    "cv.imshow('Color',img)\n",
    "cv.imshow('gray',gray)\n",
    "cv.imshow('small',gray_small)\n",
    "\n",
    "cv.waitKey()\n",
    "cv.destroyAllWindows()"
   ]
  },
  {
   "cell_type": "code",
   "execution_count": null,
   "metadata": {},
   "outputs": [],
   "source": [
    "#이미지에 사각형 추가\n",
    "img=cv.imread('image/bird1.jpg')\n",
    "\n",
    "if img is None:\n",
    "    sys.exit('파일을 찾을 수 없습니다.')\n",
    "\n",
    "cv.rectangle(img,(130,730),(400,820),(0,0,255),2)\n",
    "cv.putText(img, 'bird',(30,24),cv.FONT_HERSHEY_SIMPLEX,1,(255,0,0),2)\n",
    "\n",
    "cv.imshow('draw',img)\n",
    "\n",
    "cv.waitKey()\n",
    "cv.destroyAllWindows()"
   ]
  },
  {
   "cell_type": "code",
   "execution_count": null,
   "metadata": {},
   "outputs": [],
   "source": [
    "#이미지에 클릭으로 사각형 그리기\n",
    "img=cv.imread('image/bird1.jpg')\n",
    "\n",
    "if img is None:\n",
    "    sys.exit('파일을 찾을 수 없습니다.')\n",
    "\n",
    "def draw(event,x,y,flags,param):\n",
    "    if event==cv.EVENT_LBUTTONDOWN:\n",
    "        cv.rectangle(img,(x,y),(x+200,y+200),(0,0,255),2)\n",
    "    elif event==cv.EVENT_RBUTTONDOWN:\n",
    "        cv.rectangle(img,(x,y),(x+100,y+100),(255,0,0),2)\n",
    "\n",
    "    cv.imshow('Drawing',img)\n",
    "\n",
    "cv.namedWindow('Drawing')\n",
    "cv.imshow('Drawing',img)\n",
    "\n",
    "cv.setMouseCallback('Drawing', draw)\n",
    "\n",
    "while(True):\n",
    "    if cv.waitKey(1)==ord('q'):\n",
    "        cv.destroyAllWindows()\n",
    "        break"
   ]
  },
  {
   "cell_type": "code",
   "execution_count": null,
   "metadata": {},
   "outputs": [],
   "source": [
    "#이미지에 드래그로 사각형 그리기\n",
    "img=cv.imread('image/bird1.jpg')\n",
    "\n",
    "if img is None:\n",
    "    sys.exit('파일을 찾을 수 없습니다.')\n",
    "\n",
    "def draw(event,x,y,flags,param):\n",
    "    global ix,iy\n",
    "\n",
    "    if event==cv.EVENT_LBUTTONDOWN:\n",
    "        ix,iy=x,y\n",
    "    elif event==cv.EVENT_LBUTTONUP:\n",
    "        cv.rectangle(img,(ix,iy),(x,y),(0,0,255),2)\n",
    "\n",
    "    cv.imshow('Drawing',img)\n",
    "\n",
    "cv.namedWindow('Drawing')\n",
    "cv.imshow('Drawing',img)\n",
    "\n",
    "cv.setMouseCallback('Drawing', draw)\n",
    "\n",
    "while(True):\n",
    "    if cv.waitKey(1)==ord('q'):\n",
    "        cv.destroyAllWindows()\n",
    "        break"
   ]
  },
  {
   "cell_type": "code",
   "execution_count": null,
   "metadata": {},
   "outputs": [],
   "source": [
    "#이미지에 드래그로 사각형 그리기\n",
    "img=cv.imread('image/bird1.jpg')\n",
    "\n",
    "if img is None:\n",
    "    sys.exit('파일을 찾을 수 없습니다.')\n",
    "\n",
    "BrushSize=5 \n",
    "LColor,RColor=(255,0,0),(0,0,255)\n",
    "\n",
    "def painting(event,x,y,flags,param):\n",
    "    global ix,iy\n",
    "\n",
    "    if event==cv.EVENT_LBUTTONDOWN:\n",
    "        cv.circle(img,(x,y),BrushSize,LColor,-1)\n",
    "    elif event==cv.EVENT_RBUTTONDOWN:\n",
    "        cv.circle(img,(x,y),BrushSize,RColor,-1)\n",
    "    elif event==cv.EVENT_MOUSEMOVE and flags==cv.EVENT_FLAG_LBUTTON:\n",
    "        cv.circle(img,(x,y),BrushSize,LColor,-1)\n",
    "    elif event==cv.EVENT_MOUSEMOVE and flags==cv.EVENT_FLAG_RBUTTON:\n",
    "        cv.circle(img,(x,y),BrushSize,RColor,-1)\n",
    "\n",
    "    cv.imshow('Painting',img)\n",
    "\n",
    "cv.namedWindow('Painting')\n",
    "cv.imshow('Painting',img)\n",
    "\n",
    "cv.setMouseCallback('Painting', painting)\n",
    "\n",
    "while(True):\n",
    "    if cv.waitKey(1)==ord('q'):\n",
    "        cv.destroyAllWindows()\n",
    "        break"
   ]
  }
 ],
 "metadata": {
  "kernelspec": {
   "display_name": "base",
   "language": "python",
   "name": "python3"
  },
  "language_info": {
   "codemirror_mode": {
    "name": "ipython",
    "version": 3
   },
   "file_extension": ".py",
   "mimetype": "text/x-python",
   "name": "python",
   "nbconvert_exporter": "python",
   "pygments_lexer": "ipython3",
   "version": "3.12.7"
  }
 },
 "nbformat": 4,
 "nbformat_minor": 2
}
